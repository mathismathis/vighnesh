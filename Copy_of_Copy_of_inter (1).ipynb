{
  "cells": [
    {
      "cell_type": "code",
      "execution_count": null,
      "metadata": {
        "id": "HyXQPS098D2S"
      },
      "outputs": [],
      "source": [
        "import pandas as pd"
      ]
    },
    {
      "cell_type": "code",
      "execution_count": null,
      "metadata": {
        "id": "oRqp6UpCKDQg"
      },
      "outputs": [],
      "source": [
        "df=pd.read_csv('/concat_df.csv')"
      ]
    },
    {
      "cell_type": "code",
      "execution_count": null,
      "metadata": {
        "id": "OHP_ij1Q8D4X"
      },
      "outputs": [],
      "source": [
        "\n",
        "\n",
        "df1= pd.read_csv('/concat_df_2.csv')"
      ]
    },
    {
      "cell_type": "code",
      "execution_count": null,
      "metadata": {
        "id": "GRVKmO4QKnqr"
      },
      "outputs": [],
      "source": [
        "df3=df1[df1['Source']==\"location_count_data\"]"
      ]
    },
    {
      "cell_type": "code",
      "source": [
        "dfa=df3['attributes']"
      ],
      "metadata": {
        "id": "ySp0PbqDevwb"
      },
      "execution_count": null,
      "outputs": []
    },
    {
      "cell_type": "code",
      "source": [],
      "metadata": {
        "id": "dMJ34lBne6nR"
      },
      "execution_count": null,
      "outputs": []
    },
    {
      "cell_type": "code",
      "source": [
        "def splitaa(x):\n",
        "  return x.split(\" \")[-3]"
      ],
      "metadata": {
        "id": "lFqrP5_XfeLB"
      },
      "execution_count": null,
      "outputs": []
    },
    {
      "cell_type": "code",
      "source": [
        "df3['loc']=dfa.apply(splitaa)"
      ],
      "metadata": {
        "id": "e9JhulzyfpIc",
        "outputId": "fea9c774-05d5-4acb-acd7-92c1df52eb4b",
        "colab": {
          "base_uri": "https://localhost:8080/"
        }
      },
      "execution_count": null,
      "outputs": [
        {
          "output_type": "stream",
          "name": "stderr",
          "text": [
            "<ipython-input-223-b567852ee050>:1: SettingWithCopyWarning: \n",
            "A value is trying to be set on a copy of a slice from a DataFrame.\n",
            "Try using .loc[row_indexer,col_indexer] = value instead\n",
            "\n",
            "See the caveats in the documentation: https://pandas.pydata.org/pandas-docs/stable/user_guide/indexing.html#returning-a-view-versus-a-copy\n",
            "  df3['loc']=dfa.apply(splitaa)\n"
          ]
        }
      ]
    },
    {
      "cell_type": "code",
      "source": [],
      "metadata": {
        "id": "2kWvxaENfw87"
      },
      "execution_count": null,
      "outputs": []
    },
    {
      "cell_type": "code",
      "source": [
        "def splitaa1(x):\n",
        "  return x.split(\" \")[0]"
      ],
      "metadata": {
        "id": "dYZuTqo1eZJI"
      },
      "execution_count": null,
      "outputs": []
    },
    {
      "cell_type": "code",
      "execution_count": null,
      "metadata": {
        "colab": {
          "base_uri": "https://localhost:8080/"
        },
        "id": "IWMcrvzsVSKF",
        "outputId": "c308615c-23ca-45d4-fda6-df92ba93c841"
      },
      "outputs": [
        {
          "output_type": "stream",
          "name": "stderr",
          "text": [
            "<ipython-input-225-ce0d5dd1bc4d>:1: SettingWithCopyWarning: \n",
            "A value is trying to be set on a copy of a slice from a DataFrame.\n",
            "Try using .loc[row_indexer,col_indexer] = value instead\n",
            "\n",
            "See the caveats in the documentation: https://pandas.pydata.org/pandas-docs/stable/user_guide/indexing.html#returning-a-view-versus-a-copy\n",
            "  df3['count']=dfa.apply(splitaa1)\n"
          ]
        }
      ],
      "source": [
        "df3['count']=dfa.apply(splitaa1)"
      ]
    },
    {
      "cell_type": "markdown",
      "source": [
        "location data\n"
      ],
      "metadata": {
        "id": "pYmjhLcgj7qo"
      }
    },
    {
      "cell_type": "code",
      "execution_count": null,
      "metadata": {
        "id": "aSKQQUQY8D9t"
      },
      "outputs": [],
      "source": [
        "df3a=df3[['loc','count']]"
      ]
    },
    {
      "cell_type": "code",
      "execution_count": null,
      "metadata": {
        "id": "k4qeTR4eCjnd"
      },
      "outputs": [],
      "source": [
        "dfloc=df3a.replace({'Areas),': 'Mumbai'}).replace({'NCR,':'Delhi NCR'}).replace({'Hyderabad/Secunderabad,':'Hyderabad'})"
      ]
    },
    {
      "cell_type": "code",
      "source": [
        "dfl=dfloc['loc']"
      ],
      "metadata": {
        "id": "aJP1Ai-ccwSG"
      },
      "execution_count": null,
      "outputs": []
    },
    {
      "cell_type": "code",
      "source": [
        "def abc(x):\n",
        "  return x.rstrip(',')"
      ],
      "metadata": {
        "id": "zvNU00sqca2O"
      },
      "execution_count": null,
      "outputs": []
    },
    {
      "cell_type": "code",
      "source": [
        "dfloc['location']=dfl.apply(abc)"
      ],
      "metadata": {
        "id": "OpM50kYabREr"
      },
      "execution_count": null,
      "outputs": []
    },
    {
      "cell_type": "code",
      "source": [
        "dffl=dfloc[['location','count']]"
      ],
      "metadata": {
        "id": "hDmPLcNRc7ik"
      },
      "execution_count": null,
      "outputs": []
    },
    {
      "cell_type": "code",
      "source": [],
      "metadata": {
        "id": "fdxgr55KdH9f"
      },
      "execution_count": null,
      "outputs": []
    },
    {
      "cell_type": "code",
      "execution_count": null,
      "metadata": {
        "id": "kRFRX68ICjvk"
      },
      "outputs": [],
      "source": [
        "dfg1=df1[df1['Source']==\"anywhere_india_data_genders\"]"
      ]
    },
    {
      "cell_type": "code",
      "source": [
        "dfga=dfg1['attributes']"
      ],
      "metadata": {
        "id": "Ch3KO5d9kYBy"
      },
      "execution_count": null,
      "outputs": []
    },
    {
      "cell_type": "code",
      "execution_count": null,
      "metadata": {
        "id": "Y6a-x4myCj_1"
      },
      "outputs": [],
      "source": [
        "def splitgg1(x):\n",
        "  return x.split(\" \")[0]"
      ]
    },
    {
      "cell_type": "code",
      "execution_count": null,
      "metadata": {
        "id": "NrM8YQXrCkJM",
        "outputId": "22566049-d79d-4c77-98d2-63224c425b00",
        "colab": {
          "base_uri": "https://localhost:8080/"
        }
      },
      "outputs": [
        {
          "output_type": "stream",
          "name": "stderr",
          "text": [
            "<ipython-input-235-b4e19bcc96c6>:1: SettingWithCopyWarning: \n",
            "A value is trying to be set on a copy of a slice from a DataFrame.\n",
            "Try using .loc[row_indexer,col_indexer] = value instead\n",
            "\n",
            "See the caveats in the documentation: https://pandas.pydata.org/pandas-docs/stable/user_guide/indexing.html#returning-a-view-versus-a-copy\n",
            "  dfg1['count']=dfga.apply(splitgg1)\n"
          ]
        }
      ],
      "source": [
        "dfg1['count']=dfga.apply(splitgg1)"
      ]
    },
    {
      "cell_type": "code",
      "source": [
        "ls=['male','female']"
      ],
      "metadata": {
        "id": "AiMv-Th8kx14"
      },
      "execution_count": null,
      "outputs": []
    },
    {
      "cell_type": "code",
      "execution_count": null,
      "metadata": {
        "id": "9KRfBfhPCkW0",
        "outputId": "0ddb400d-90b0-4e42-cf3d-917364aab9ee",
        "colab": {
          "base_uri": "https://localhost:8080/"
        }
      },
      "outputs": [
        {
          "output_type": "stream",
          "name": "stderr",
          "text": [
            "<ipython-input-237-a8405a19edd0>:1: SettingWithCopyWarning: \n",
            "A value is trying to be set on a copy of a slice from a DataFrame.\n",
            "Try using .loc[row_indexer,col_indexer] = value instead\n",
            "\n",
            "See the caveats in the documentation: https://pandas.pydata.org/pandas-docs/stable/user_guide/indexing.html#returning-a-view-versus-a-copy\n",
            "  dfg1['gender']=ls\n"
          ]
        }
      ],
      "source": [
        "\n",
        "\n",
        "dfg1['gender']=ls"
      ]
    },
    {
      "cell_type": "code",
      "execution_count": null,
      "metadata": {
        "id": "zE9b1ppOCkoY"
      },
      "outputs": [],
      "source": [
        "dfg2=dfg1[['gender','count']]"
      ]
    },
    {
      "cell_type": "markdown",
      "source": [
        "any where in india gender count"
      ],
      "metadata": {
        "id": "FiAQSU_plJhy"
      }
    },
    {
      "cell_type": "code",
      "execution_count": null,
      "metadata": {
        "id": "ZU_h1FvC8EHm"
      },
      "outputs": [],
      "source": [
        "dfg2.rename(columns={'count':'India'},inplace=True)"
      ]
    },
    {
      "cell_type": "code",
      "source": [
        "#location wise gender diversty"
      ],
      "metadata": {
        "id": "4WdqSdZJlNMA"
      },
      "execution_count": null,
      "outputs": []
    },
    {
      "cell_type": "code",
      "source": [
        "dflg=df1[df1['Source']==\"gender_diversity_data\"]"
      ],
      "metadata": {
        "id": "P4VvywSplovU"
      },
      "execution_count": null,
      "outputs": []
    },
    {
      "cell_type": "code",
      "source": [
        "dflga=dflg['attributes']"
      ],
      "metadata": {
        "id": "CqfbvkY_l4qw"
      },
      "execution_count": null,
      "outputs": []
    },
    {
      "cell_type": "code",
      "source": [
        "dflg['loc']=dflga.apply(splitaa)"
      ],
      "metadata": {
        "id": "dhZf1LRXl4ty",
        "outputId": "03d65105-ff4b-42de-e1df-eb0a91c5da93",
        "colab": {
          "base_uri": "https://localhost:8080/"
        }
      },
      "execution_count": null,
      "outputs": [
        {
          "output_type": "stream",
          "name": "stderr",
          "text": [
            "<ipython-input-243-e16c776af1a4>:1: SettingWithCopyWarning: \n",
            "A value is trying to be set on a copy of a slice from a DataFrame.\n",
            "Try using .loc[row_indexer,col_indexer] = value instead\n",
            "\n",
            "See the caveats in the documentation: https://pandas.pydata.org/pandas-docs/stable/user_guide/indexing.html#returning-a-view-versus-a-copy\n",
            "  dflg['loc']=dflga.apply(splitaa)\n"
          ]
        }
      ]
    },
    {
      "cell_type": "code",
      "source": [
        "dflg['count']=dflga.apply(splitaa1)"
      ],
      "metadata": {
        "id": "Cp__y69vl4yx",
        "outputId": "68b54984-d47d-48b6-f8f1-aafc7b1b4dbc",
        "colab": {
          "base_uri": "https://localhost:8080/"
        }
      },
      "execution_count": null,
      "outputs": [
        {
          "output_type": "stream",
          "name": "stderr",
          "text": [
            "<ipython-input-244-285c8042fe7f>:1: SettingWithCopyWarning: \n",
            "A value is trying to be set on a copy of a slice from a DataFrame.\n",
            "Try using .loc[row_indexer,col_indexer] = value instead\n",
            "\n",
            "See the caveats in the documentation: https://pandas.pydata.org/pandas-docs/stable/user_guide/indexing.html#returning-a-view-versus-a-copy\n",
            "  dflg['count']=dflga.apply(splitaa1)\n"
          ]
        }
      ]
    },
    {
      "cell_type": "code",
      "source": [
        "dflg['gender']=ls"
      ],
      "metadata": {
        "id": "5K1yBYQrl43D",
        "outputId": "c19f1bfe-2f7d-467a-eec4-a40adc104ec7",
        "colab": {
          "base_uri": "https://localhost:8080/"
        }
      },
      "execution_count": null,
      "outputs": [
        {
          "output_type": "stream",
          "name": "stderr",
          "text": [
            "<ipython-input-245-9db5c2e2c744>:1: SettingWithCopyWarning: \n",
            "A value is trying to be set on a copy of a slice from a DataFrame.\n",
            "Try using .loc[row_indexer,col_indexer] = value instead\n",
            "\n",
            "See the caveats in the documentation: https://pandas.pydata.org/pandas-docs/stable/user_guide/indexing.html#returning-a-view-versus-a-copy\n",
            "  dflg['gender']=ls\n"
          ]
        }
      ]
    },
    {
      "cell_type": "code",
      "source": [
        "dflg1=dflg[['gender','count','loc']]"
      ],
      "metadata": {
        "id": "RmGz2fS9lNO4"
      },
      "execution_count": null,
      "outputs": []
    },
    {
      "cell_type": "code",
      "source": [
        "dflg2=dflg1.replace({'Areas),': 'Mumbai'}).replace({'NCR,':'Delhi NCR'}).replace({'Hyderabad/Secunderabad,':'Hyderabad'})"
      ],
      "metadata": {
        "id": "cNKmc5p7fA2U"
      },
      "execution_count": null,
      "outputs": []
    },
    {
      "cell_type": "code",
      "source": [
        "dflg3=dflg2.reset_index(drop=True)"
      ],
      "metadata": {
        "id": "Kv-3c469vSVO"
      },
      "execution_count": null,
      "outputs": []
    },
    {
      "cell_type": "code",
      "source": [
        "new_col_name = dflg3.loc[0,'loc']"
      ],
      "metadata": {
        "id": "WzazNblct6ss"
      },
      "execution_count": null,
      "outputs": []
    },
    {
      "cell_type": "code",
      "source": [
        "dflg3.rename(columns={\"count\":new_col_name},inplace=True)"
      ],
      "metadata": {
        "id": "eI1WBQONwOQH"
      },
      "execution_count": null,
      "outputs": []
    },
    {
      "cell_type": "markdown",
      "source": [],
      "metadata": {
        "id": "sOqSBlfeuO8M"
      }
    },
    {
      "cell_type": "code",
      "source": [
        "dflg3=dflg3.drop(columns=['loc'],axis=1)"
      ],
      "metadata": {
        "id": "mfLb_sOIlIDP"
      },
      "execution_count": null,
      "outputs": []
    },
    {
      "cell_type": "code",
      "source": [],
      "metadata": {
        "id": "zFiOuCN8xLEu"
      },
      "execution_count": null,
      "outputs": []
    },
    {
      "cell_type": "code",
      "source": [
        "#relocation"
      ],
      "metadata": {
        "id": "FuK9n_fPmkRE"
      },
      "execution_count": null,
      "outputs": []
    },
    {
      "cell_type": "code",
      "source": [
        "# dfhh=df1[df1['Source']==\"anywhere_india_data\"]"
      ],
      "metadata": {
        "id": "GX2CqDn_mlqs"
      },
      "execution_count": null,
      "outputs": []
    },
    {
      "cell_type": "code",
      "source": [
        "# dfhh"
      ],
      "metadata": {
        "id": "p1Opt8BKmltO"
      },
      "execution_count": null,
      "outputs": []
    },
    {
      "cell_type": "code",
      "source": [
        "# dfhha=dfhh['attributes']"
      ],
      "metadata": {
        "id": "WMoEfgsNmlv3"
      },
      "execution_count": null,
      "outputs": []
    },
    {
      "cell_type": "code",
      "source": [
        "# dfhh['count']=dfhha.apply(splitaa1)"
      ],
      "metadata": {
        "id": "fb59soirmlxz"
      },
      "execution_count": null,
      "outputs": []
    },
    {
      "cell_type": "code",
      "source": [
        "# dfhh"
      ],
      "metadata": {
        "id": "TX3d3ZmAmlzv"
      },
      "execution_count": null,
      "outputs": []
    },
    {
      "cell_type": "code",
      "source": [
        "# dfhh = dfhh.astype({'count':'int'})"
      ],
      "metadata": {
        "id": "gYxMwEh4rLv2"
      },
      "execution_count": null,
      "outputs": []
    },
    {
      "cell_type": "code",
      "source": [
        "# dfhh.info()"
      ],
      "metadata": {
        "id": "t2QP0DYQrPrk"
      },
      "execution_count": null,
      "outputs": []
    },
    {
      "cell_type": "code",
      "source": [
        "# dfh1=dfhh[['count']]"
      ],
      "metadata": {
        "id": "8aY0HzsRq5iD"
      },
      "execution_count": null,
      "outputs": []
    },
    {
      "cell_type": "code",
      "source": [
        "# dfh1"
      ],
      "metadata": {
        "id": "9BIYDTgTrAad"
      },
      "execution_count": null,
      "outputs": []
    },
    {
      "cell_type": "code",
      "source": [
        "# dfhr=df1[df1['Source']==\"hiring_location\"]"
      ],
      "metadata": {
        "id": "L4RGdauImkZz"
      },
      "execution_count": null,
      "outputs": []
    },
    {
      "cell_type": "code",
      "source": [
        "# dfhr"
      ],
      "metadata": {
        "id": "0Raden1mocVO"
      },
      "execution_count": null,
      "outputs": []
    },
    {
      "cell_type": "code",
      "source": [
        "# dfhra=dfhr['attributes']"
      ],
      "metadata": {
        "id": "GrgNbDfkocX1"
      },
      "execution_count": null,
      "outputs": []
    },
    {
      "cell_type": "code",
      "source": [
        "# dfhr['count']=dfhra.apply(splitaa1)"
      ],
      "metadata": {
        "id": "rsl-tVTBocaX"
      },
      "execution_count": null,
      "outputs": []
    },
    {
      "cell_type": "code",
      "source": [
        "# dfhr"
      ],
      "metadata": {
        "id": "De2-tQ95mkdC"
      },
      "execution_count": null,
      "outputs": []
    },
    {
      "cell_type": "code",
      "source": [
        "# dfhr = dfhr.astype({'count':'int'})"
      ],
      "metadata": {
        "id": "uPtVFqhjrCe9"
      },
      "execution_count": null,
      "outputs": []
    },
    {
      "cell_type": "code",
      "source": [
        "# dfhr.info()"
      ],
      "metadata": {
        "id": "R6cR0NhiqivJ"
      },
      "execution_count": null,
      "outputs": []
    },
    {
      "cell_type": "code",
      "execution_count": null,
      "metadata": {
        "id": "Lnch3NbX8ELL"
      },
      "outputs": [],
      "source": [
        "# dfhr1=dfhr[['count']]"
      ]
    },
    {
      "cell_type": "code",
      "source": [
        "# dfh1"
      ],
      "metadata": {
        "id": "zZzJrdhIr7aH"
      },
      "execution_count": null,
      "outputs": []
    },
    {
      "cell_type": "code",
      "source": [
        "# dfhr1"
      ],
      "metadata": {
        "id": "99vtA2Fvr7iJ"
      },
      "execution_count": null,
      "outputs": []
    },
    {
      "cell_type": "code",
      "source": [
        "# dffl"
      ],
      "metadata": {
        "id": "H9GyhyB3r7mr"
      },
      "execution_count": null,
      "outputs": []
    },
    {
      "cell_type": "code",
      "source": [
        "# "
      ],
      "metadata": {
        "id": "AE8CR0LOs3Cq"
      },
      "execution_count": null,
      "outputs": []
    },
    {
      "cell_type": "code",
      "source": [
        "# result = dfh1['count'] - dfhr1['count']"
      ],
      "metadata": {
        "id": "nmHi4j8jr7pt"
      },
      "execution_count": null,
      "outputs": []
    },
    {
      "cell_type": "code",
      "source": [],
      "metadata": {
        "id": "_nZ8-6r3sI8N"
      },
      "execution_count": null,
      "outputs": []
    },
    {
      "cell_type": "code",
      "source": [
        "#experience"
      ],
      "metadata": {
        "id": "jR1MQl_hx3cc"
      },
      "execution_count": null,
      "outputs": []
    },
    {
      "cell_type": "code",
      "source": [
        "dfe1=df1[df1['Source']==\"experience_split_data\"]"
      ],
      "metadata": {
        "id": "RK-218rWyXon"
      },
      "execution_count": null,
      "outputs": []
    },
    {
      "cell_type": "code",
      "source": [
        "dfea=dfe1['attributes']"
      ],
      "metadata": {
        "id": "1xFhGOLEx3nD"
      },
      "execution_count": null,
      "outputs": []
    },
    {
      "cell_type": "code",
      "source": [
        "\n",
        "def splitab(x):\n",
        "  return x.split(\" \")[-3]"
      ],
      "metadata": {
        "id": "fQzW1ifOzxzQ"
      },
      "execution_count": null,
      "outputs": []
    },
    {
      "cell_type": "code",
      "source": [
        "dfe1['loc']=dfea.apply(splitab)"
      ],
      "metadata": {
        "colab": {
          "base_uri": "https://localhost:8080/"
        },
        "id": "H794NqW2x3rC",
        "outputId": "f907fa94-ba37-48b8-8f7f-5809923d5720"
      },
      "execution_count": null,
      "outputs": [
        {
          "output_type": "stream",
          "name": "stderr",
          "text": [
            "<ipython-input-279-8c5547a773c6>:1: SettingWithCopyWarning: \n",
            "A value is trying to be set on a copy of a slice from a DataFrame.\n",
            "Try using .loc[row_indexer,col_indexer] = value instead\n",
            "\n",
            "See the caveats in the documentation: https://pandas.pydata.org/pandas-docs/stable/user_guide/indexing.html#returning-a-view-versus-a-copy\n",
            "  dfe1['loc']=dfea.apply(splitab)\n"
          ]
        }
      ]
    },
    {
      "cell_type": "code",
      "source": [
        "dfe1['count']=dfea.apply(splitaa1)"
      ],
      "metadata": {
        "colab": {
          "base_uri": "https://localhost:8080/"
        },
        "id": "hHR1LjOQykXJ",
        "outputId": "566a79d2-5a5f-4b98-d64d-a67a8138f72a"
      },
      "execution_count": null,
      "outputs": [
        {
          "output_type": "stream",
          "name": "stderr",
          "text": [
            "<ipython-input-280-f538bb0ac6ed>:1: SettingWithCopyWarning: \n",
            "A value is trying to be set on a copy of a slice from a DataFrame.\n",
            "Try using .loc[row_indexer,col_indexer] = value instead\n",
            "\n",
            "See the caveats in the documentation: https://pandas.pydata.org/pandas-docs/stable/user_guide/indexing.html#returning-a-view-versus-a-copy\n",
            "  dfe1['count']=dfea.apply(splitaa1)\n"
          ]
        }
      ]
    },
    {
      "cell_type": "code",
      "source": [
        "dfll=dfe1['loc']"
      ],
      "metadata": {
        "id": "eVGhsSg809N7"
      },
      "execution_count": null,
      "outputs": []
    },
    {
      "cell_type": "code",
      "source": [
        "dfe1['location']=dfll.apply(abc)"
      ],
      "metadata": {
        "colab": {
          "base_uri": "https://localhost:8080/"
        },
        "id": "7i7g2aolzfCa",
        "outputId": "7e798401-dd23-48f8-abc3-d83c94295e54"
      },
      "execution_count": null,
      "outputs": [
        {
          "output_type": "stream",
          "name": "stderr",
          "text": [
            "<ipython-input-282-adfa9b08ca97>:1: SettingWithCopyWarning: \n",
            "A value is trying to be set on a copy of a slice from a DataFrame.\n",
            "Try using .loc[row_indexer,col_indexer] = value instead\n",
            "\n",
            "See the caveats in the documentation: https://pandas.pydata.org/pandas-docs/stable/user_guide/indexing.html#returning-a-view-versus-a-copy\n",
            "  dfe1['location']=dfll.apply(abc)\n"
          ]
        }
      ]
    },
    {
      "cell_type": "code",
      "source": [
        "dfe2=dfe1.replace({'Areas)': 'Mumbai'}).replace({'NCR':'Delhi NCR'}).replace({'Hyderabad/Secunderabad':'Hyderabad'})"
      ],
      "metadata": {
        "id": "_UtxBLeFzfTk"
      },
      "execution_count": null,
      "outputs": []
    },
    {
      "cell_type": "code",
      "source": [],
      "metadata": {
        "id": "wjJPUvCX1o7Y"
      },
      "execution_count": null,
      "outputs": []
    },
    {
      "cell_type": "code",
      "source": [
        "\n",
        "def splityr(x):\n",
        "  return x.split(\" \")[-2]"
      ],
      "metadata": {
        "id": "KNVeTYXR1Txa"
      },
      "execution_count": null,
      "outputs": []
    },
    {
      "cell_type": "code",
      "source": [
        "dfe2['years']=dfea.apply(splityr)"
      ],
      "metadata": {
        "id": "HHcq0bLi1VuG"
      },
      "execution_count": null,
      "outputs": []
    },
    {
      "cell_type": "code",
      "source": [
        "dfe3=dfe2[['location','years','count']]"
      ],
      "metadata": {
        "id": "a7v-UPVc1V_o"
      },
      "execution_count": null,
      "outputs": []
    },
    {
      "cell_type": "code",
      "source": [
        "df_pivot = dfe3.pivot(index='location', columns='years', values='count')"
      ],
      "metadata": {
        "id": "fZYZrgQt14ml"
      },
      "execution_count": null,
      "outputs": []
    },
    {
      "cell_type": "code",
      "source": [
        "#industry"
      ],
      "metadata": {
        "id": "XLU_4Tvd8v2V"
      },
      "execution_count": null,
      "outputs": []
    },
    {
      "cell_type": "code",
      "source": [
        "dfi=df[df['Source']==\"industry\"]"
      ],
      "metadata": {
        "id": "G87pX2yr14zI"
      },
      "execution_count": null,
      "outputs": []
    },
    {
      "cell_type": "code",
      "source": [
        "dfii=dfi.drop_duplicates(subset=['attributes'])"
      ],
      "metadata": {
        "id": "079MqSHhCojZ"
      },
      "execution_count": null,
      "outputs": []
    },
    {
      "cell_type": "code",
      "source": [
        "dfi1 = dfii.nlargest(4, 'value')"
      ],
      "metadata": {
        "id": "hmErdvkt1WMQ"
      },
      "execution_count": null,
      "outputs": []
    },
    {
      "cell_type": "code",
      "source": [
        "dfi2=dfi1.rename(columns={'attributes':'Industry','value':'Talent'})"
      ],
      "metadata": {
        "id": "MAwWSKGYCDks"
      },
      "execution_count": null,
      "outputs": []
    },
    {
      "cell_type": "code",
      "source": [
        "dfi3=dfi2.drop(columns=['Source'],axis=1)"
      ],
      "metadata": {
        "id": "bi835SwrDSiG"
      },
      "execution_count": null,
      "outputs": []
    },
    {
      "cell_type": "code",
      "source": [],
      "metadata": {
        "id": "51w8tUSlDSnc"
      },
      "execution_count": null,
      "outputs": []
    },
    {
      "cell_type": "code",
      "source": [],
      "metadata": {
        "id": "CT34hNPSDSqX"
      },
      "execution_count": null,
      "outputs": []
    },
    {
      "cell_type": "code",
      "source": [
        "!pip install xlsxwriter"
      ],
      "metadata": {
        "colab": {
          "base_uri": "https://localhost:8080/"
        },
        "id": "iSJSSKZikTf5",
        "outputId": "51780507-0487-4113-912f-32259f8d6235"
      },
      "execution_count": null,
      "outputs": [
        {
          "output_type": "stream",
          "name": "stdout",
          "text": [
            "Looking in indexes: https://pypi.org/simple, https://us-python.pkg.dev/colab-wheels/public/simple/\n",
            "Requirement already satisfied: xlsxwriter in /usr/local/lib/python3.8/dist-packages (3.0.8)\n"
          ]
        }
      ]
    },
    {
      "cell_type": "code",
      "source": [
        "import xlsxwriter"
      ],
      "metadata": {
        "id": "yHL5-a8cpxqx"
      },
      "execution_count": null,
      "outputs": []
    },
    {
      "cell_type": "code",
      "source": [
        "writer = pd.ExcelWriter('outputa.xlsx', engine='openpyxl')\n",
        "\n",
        "# write each dataframe to a separate sheet in the Excel file\n",
        "df_pivot.to_excel(writer, sheet_name='Sheet1')\n",
        "# df2.to_excel(writer, sheet_name='Sheet2', index=False)\n",
        "# df3.to_excel(writer, sheet_name='Sheet3', index=False)\n",
        "\n",
        "# save the Excel file\n",
        "writer.save()"
      ],
      "metadata": {
        "id": "dwnt-qCULr_h"
      },
      "execution_count": null,
      "outputs": []
    },
    {
      "cell_type": "code",
      "source": [
        "dfeeeee = pd.read_excel('/content/outputa.xlsx', sheet_name='Sheet1')"
      ],
      "metadata": {
        "id": "Lr2IbpPy-nmu"
      },
      "execution_count": null,
      "outputs": []
    },
    {
      "cell_type": "code",
      "source": [
        "dfeeeee.rename(columns={'location':'Avg CTC'},inplace=True)"
      ],
      "metadata": {
        "id": "CwKl2Pmw-0AH"
      },
      "execution_count": null,
      "outputs": []
    },
    {
      "cell_type": "code",
      "source": [
        "writer = pd.ExcelWriter('output.xlsx', engine='openpyxl')\n",
        "\n",
        "# write each dataframe to a specific sheet in the Excel file\n",
        "dffl.to_excel(writer, sheet_name='Sheet1',startrow=0 , startcol=0,index=False)\n",
        "dfg2.to_excel(writer, sheet_name='Sheet1',startrow=10 , startcol=0,index=False)\n",
        "dflg3.to_excel(writer, sheet_name='Sheet1',startrow=14 , startcol=0,index=False)\n",
        "dfeeeee.to_excel(writer, sheet_name='Sheet1',startrow=19 , startcol=0,index=False)\n",
        "dfi3.to_excel(writer, sheet_name='Sheet1',startrow=11 , startcol=5,index=False)\n",
        "\n",
        "# save the Excel file\n",
        "writer.save()"
      ],
      "metadata": {
        "id": "8wfEkeA9jcYs"
      },
      "execution_count": null,
      "outputs": []
    },
    {
      "cell_type": "code",
      "execution_count": null,
      "metadata": {
        "id": "TMtacRH98EOi"
      },
      "outputs": [],
      "source": []
    },
    {
      "cell_type": "code",
      "execution_count": null,
      "metadata": {
        "id": "BP2q3oPs_nes"
      },
      "outputs": [],
      "source": []
    },
    {
      "cell_type": "code",
      "execution_count": null,
      "metadata": {
        "id": "Geri8GXF_nhj"
      },
      "outputs": [],
      "source": []
    },
    {
      "cell_type": "code",
      "execution_count": null,
      "metadata": {
        "id": "5b5xX4eQ_nk_"
      },
      "outputs": [],
      "source": []
    },
    {
      "cell_type": "code",
      "execution_count": null,
      "metadata": {
        "id": "IHMmPoDK_noD"
      },
      "outputs": [],
      "source": []
    },
    {
      "cell_type": "code",
      "execution_count": null,
      "metadata": {
        "id": "jLDkxEcy_nrL"
      },
      "outputs": [],
      "source": []
    },
    {
      "cell_type": "code",
      "execution_count": null,
      "metadata": {
        "id": "v5SwzgkXK7uR"
      },
      "outputs": [],
      "source": []
    },
    {
      "cell_type": "code",
      "execution_count": null,
      "metadata": {
        "id": "9UW3FJZAK7xK"
      },
      "outputs": [],
      "source": []
    },
    {
      "cell_type": "code",
      "execution_count": null,
      "metadata": {
        "id": "3s5yH1w5K70K"
      },
      "outputs": [],
      "source": []
    },
    {
      "cell_type": "code",
      "execution_count": null,
      "metadata": {
        "id": "HaSC_CSmK74O"
      },
      "outputs": [],
      "source": []
    },
    {
      "cell_type": "code",
      "execution_count": null,
      "metadata": {
        "id": "m3-RnzJpK78A"
      },
      "outputs": [],
      "source": []
    },
    {
      "cell_type": "code",
      "execution_count": null,
      "metadata": {
        "id": "xEJWIcSMK7-Z"
      },
      "outputs": [],
      "source": []
    },
    {
      "cell_type": "code",
      "execution_count": null,
      "metadata": {
        "id": "vntrNOj9K8A-"
      },
      "outputs": [],
      "source": []
    },
    {
      "cell_type": "code",
      "execution_count": null,
      "metadata": {
        "id": "4tBrZs7pK8D-"
      },
      "outputs": [],
      "source": []
    },
    {
      "cell_type": "code",
      "execution_count": null,
      "metadata": {
        "id": "hs_vmt1JK8Gr"
      },
      "outputs": [],
      "source": []
    },
    {
      "cell_type": "code",
      "execution_count": null,
      "metadata": {
        "id": "W_4iLP6zqNrN"
      },
      "outputs": [],
      "source": []
    },
    {
      "cell_type": "code",
      "execution_count": null,
      "metadata": {
        "id": "kv7ViqqBi2JK"
      },
      "outputs": [],
      "source": []
    },
    {
      "cell_type": "code",
      "execution_count": null,
      "metadata": {
        "id": "Hxmn-r6DqN0i"
      },
      "outputs": [],
      "source": []
    },
    {
      "cell_type": "code",
      "execution_count": null,
      "metadata": {
        "id": "hTbu5XiEqN5B"
      },
      "outputs": [],
      "source": []
    },
    {
      "cell_type": "code",
      "execution_count": null,
      "metadata": {
        "id": "VKD9XIFhC9F7"
      },
      "outputs": [],
      "source": []
    },
    {
      "cell_type": "code",
      "execution_count": null,
      "metadata": {
        "id": "5Xod738IC9Ir"
      },
      "outputs": [],
      "source": []
    },
    {
      "cell_type": "code",
      "execution_count": null,
      "metadata": {
        "id": "VpHLM6xIC9Lc"
      },
      "outputs": [],
      "source": []
    }
  ],
  "metadata": {
    "colab": {
      "provenance": []
    },
    "kernelspec": {
      "display_name": "Python 3",
      "name": "python3"
    },
    "language_info": {
      "name": "python"
    }
  },
  "nbformat": 4,
  "nbformat_minor": 0
}